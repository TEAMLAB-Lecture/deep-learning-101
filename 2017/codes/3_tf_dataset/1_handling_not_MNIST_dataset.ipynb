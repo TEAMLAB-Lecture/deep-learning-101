{
 "cells": [
  {
   "cell_type": "markdown",
   "metadata": {},
   "source": [
    "## 문서의 목적\n",
    "\n",
    "본 문서는 [not MNIST](http://yaroslavvb.blogspot.kr/2011/09/notmnist-dataset.html) 데이터 셋을 활용하여, Tensorflow의 입력 데이터 셋을 만드는 과정을 서술하기 위해 작성되었습니다."
   ]
  },
  {
   "cell_type": "markdown",
   "metadata": {},
   "source": [
    "\n",
    "### Data download\n",
    "\n",
    "not-MNIST 데이터 셋을 다운로드 한다. ubutu 또는 mac os 때는 아래 코드를 입력하며, windows에서는 아래 주소를 익스플로러에 넣은 후 저장한다.\n",
    "\n",
    "http://yaroslavvb.com/upload/notMNIST/notMNIST_large.tar.gz"
   ]
  },
  {
   "cell_type": "code",
   "execution_count": null,
   "metadata": {},
   "outputs": [],
   "source": [
    "!wget http://yaroslavvb.com/upload/notMNIST/notMNIST_large.tar.gz"
   ]
  },
  {
   "cell_type": "markdown",
   "metadata": {},
   "source": [
    "다운로드 완료후 압축을 푸는 코드를 입력한다."
   ]
  },
  {
   "cell_type": "code",
   "execution_count": null,
   "metadata": {},
   "outputs": [],
   "source": [
    "!tar -xvf notMNIST_large.tar.gz"
   ]
  },
  {
   "cell_type": "markdown",
   "metadata": {},
   "source": [
    "### Dataset의 구조\n",
    "\n",
    "다운로드 받은 파일의 압축을 풀면 다음과 같은 파일의 구조를 가진다.\n",
    "\n",
    "![](./images/directories.png)"
   ]
  },
  {
   "cell_type": "markdown",
   "metadata": {},
   "source": [
    "위 파일 구조는 우리가 일반적으로 분류 문제를 푸는 문제를 만들 때, 가장 많이 사용하는 폴더 구조다. not MNIST는 A부터 J까지의 알파벳 문자를 그림으로 표현한 것이기 때문에, 개별 알파벳이 각 폴더에 들어가 있다. 예를 들면, A 폴더에 있는 글자들은 아래 같은 것들이 있다.\n",
    "\n",
    "![](./notMNIST_large/A/ZXVyb2Z1cmVuY2UgYm9sZGl0YWxpYy50dGY=.png)\n",
    "![](./notMNIST_large/A/ZXVyb2Z1cmVuY2UgbGlnaHQgaXRhbGljLnR0Zg==.png)\n",
    "\n",
    "일반적으로 폴더 구조를 만들때는 class를 폴더명으로, 각 class의 이미지를 해당 폴더의 하위 파일로 저장하면 된다."
   ]
  },
  {
   "cell_type": "markdown",
   "metadata": {},
   "source": [
    "### npy 파일 만들기\n",
    "\n",
    "각 폴더명에는 class를 폴더 별로 파일의 저장을 완료하면 해당 폴더에서 파일들을 호출하여 numpy 파일로 저장하여야 한다. 현재 파일들은 흑백으로 하나의 채널을 가진 이미지 파일로 이미지 사이즈를 기반으로 가로 세로 데이터를 가진다고 볼 수 있다. 예를 들면 아래 그림의 numpy 구성은 아래처럼 호출할 수 있다.\n",
    "\n",
    "![](./notMNIST_large/A/ZXVyb2Z1cmVuY2UgbGlnaHQgaXRhbGljLnR0Zg==.png)\n"
   ]
  },
  {
   "cell_type": "markdown",
   "metadata": {},
   "source": [
    "#### image의 numpy loading"
   ]
  },
  {
   "cell_type": "code",
   "execution_count": 1,
   "metadata": {},
   "outputs": [],
   "source": [
    "import matplotlib.image as mpimg\n",
    "import numpy as np"
   ]
  },
  {
   "cell_type": "code",
   "execution_count": 2,
   "metadata": {},
   "outputs": [
    {
     "data": {
      "text/plain": [
       "((28, 28), dtype('float32'))"
      ]
     },
     "execution_count": 2,
     "metadata": {},
     "output_type": "execute_result"
    }
   ],
   "source": [
    "img_dir = \"notMNIST_large/A/ZXVyb2Z1cmVuY2UgbGlnaHQgaXRhbGljLnR0Zg==.png\"\n",
    "\n",
    "a_imag = mpimg.imread(img_dir)\n",
    "a_imag.shape, a_imag.dtype"
   ]
  },
  {
   "cell_type": "markdown",
   "metadata": {},
   "source": [
    "#### image의 numpy 구성"
   ]
  },
  {
   "cell_type": "code",
   "execution_count": 3,
   "metadata": {},
   "outputs": [
    {
     "data": {
      "text/plain": [
       "array([[0.        , 0.        , 0.        , 0.        , 0.        ,\n",
       "        0.        , 0.        , 0.        , 0.        , 0.        ,\n",
       "        0.        , 0.        , 0.        , 0.        , 0.        ,\n",
       "        0.        , 0.        , 0.00392157, 0.01568628, 0.        ,\n",
       "        0.6313726 , 0.6156863 , 0.        , 0.00784314, 0.        ,\n",
       "        0.        , 0.        , 0.        ],\n",
       "       [0.        , 0.        , 0.        , 0.        , 0.        ,\n",
       "        0.        , 0.        , 0.        , 0.        , 0.        ,\n",
       "        0.        , 0.        , 0.        , 0.        , 0.        ,\n",
       "        0.        , 0.        , 0.01568628, 0.        , 0.38431373,\n",
       "        1.        , 0.8509804 , 0.02352941, 0.        , 0.00392157,\n",
       "        0.        , 0.        , 0.        ],\n",
       "       [0.        , 0.        , 0.        , 0.        , 0.        ,\n",
       "        0.        , 0.        , 0.        , 0.        , 0.        ,\n",
       "        0.        , 0.        , 0.        , 0.        , 0.        ,\n",
       "        0.        , 0.01176471, 0.        , 0.23137255, 0.99607843,\n",
       "        0.8784314 , 0.9529412 , 0.16862746, 0.        , 0.00784314,\n",
       "        0.        , 0.        , 0.        ],\n",
       "       [0.        , 0.        , 0.        , 0.        , 0.        ,\n",
       "        0.        , 0.        , 0.        , 0.        , 0.        ,\n",
       "        0.        , 0.        , 0.        , 0.        , 0.        ,\n",
       "        0.00784314, 0.        , 0.09019608, 0.9019608 , 0.8627451 ,\n",
       "        0.18431373, 1.        , 0.36078432, 0.        , 0.01176471,\n",
       "        0.        , 0.        , 0.        ],\n",
       "       [0.        , 0.        , 0.        , 0.        , 0.        ,\n",
       "        0.        , 0.        , 0.        , 0.        , 0.        ,\n",
       "        0.        , 0.        , 0.        , 0.        , 0.00392157,\n",
       "        0.01176471, 0.00784314, 0.7254902 , 1.        , 0.22745098,\n",
       "        0.        , 0.8745098 , 0.62352943, 0.        , 0.01176471,\n",
       "        0.        , 0.        , 0.        ],\n",
       "       [0.        , 0.        , 0.        , 0.        , 0.        ,\n",
       "        0.        , 0.        , 0.        , 0.        , 0.        ,\n",
       "        0.        , 0.        , 0.        , 0.        , 0.01176471,\n",
       "        0.        , 0.52156866, 1.        , 0.45490196, 0.        ,\n",
       "        0.00784314, 0.6627451 , 0.8666667 , 0.00392157, 0.00392157,\n",
       "        0.        , 0.        , 0.        ],\n",
       "       [0.        , 0.        , 0.        , 0.        , 0.        ,\n",
       "        0.        , 0.        , 0.        , 0.        , 0.        ,\n",
       "        0.        , 0.        , 0.        , 0.01568628, 0.        ,\n",
       "        0.32156864, 1.        , 0.6784314 , 0.        , 0.02352941,\n",
       "        0.        , 0.40392157, 0.98039216, 0.11372549, 0.        ,\n",
       "        0.00784314, 0.        , 0.        ],\n",
       "       [0.        , 0.        , 0.        , 0.        , 0.        ,\n",
       "        0.        , 0.        , 0.        , 0.        , 0.        ,\n",
       "        0.        , 0.        , 0.00784314, 0.        , 0.15294118,\n",
       "        0.9411765 , 0.87058824, 0.07450981, 0.00392157, 0.01568628,\n",
       "        0.        , 0.16862746, 1.        , 0.29803923, 0.        ,\n",
       "        0.01176471, 0.        , 0.        ],\n",
       "       [0.        , 0.        , 0.        , 0.        , 0.        ,\n",
       "        0.        , 0.        , 0.        , 0.        , 0.        ,\n",
       "        0.        , 0.00392157, 0.01176471, 0.04313726, 0.80784315,\n",
       "        0.9882353 , 0.21960784, 0.        , 0.01176471, 0.00392157,\n",
       "        0.        , 0.03529412, 0.92156863, 0.5647059 , 0.        ,\n",
       "        0.01176471, 0.        , 0.        ],\n",
       "       [0.        , 0.        , 0.        , 0.        , 0.        ,\n",
       "        0.        , 0.        , 0.        , 0.        , 0.        ,\n",
       "        0.00392157, 0.01176471, 0.        , 0.60784316, 1.        ,\n",
       "        0.41960785, 0.        , 0.01568628, 0.        , 0.        ,\n",
       "        0.01176471, 0.        , 0.7372549 , 0.8117647 , 0.        ,\n",
       "        0.00392157, 0.        , 0.        ],\n",
       "       [0.        , 0.        , 0.        , 0.        , 0.        ,\n",
       "        0.        , 0.        , 0.        , 0.        , 0.        ,\n",
       "        0.01568628, 0.        , 0.39607844, 1.        , 0.6313726 ,\n",
       "        0.        , 0.01176471, 0.00392157, 0.        , 0.        ,\n",
       "        0.01176471, 0.        , 0.48235294, 0.9647059 , 0.07843138,\n",
       "        0.        , 0.00784314, 0.        ],\n",
       "       [0.        , 0.        , 0.        , 0.        , 0.        ,\n",
       "        0.        , 0.        , 0.        , 0.        , 0.01176471,\n",
       "        0.        , 0.20392157, 0.972549  , 0.8235294 , 0.04705882,\n",
       "        0.00784314, 0.00392157, 0.        , 0.        , 0.        ,\n",
       "        0.01176471, 0.        , 0.23137255, 1.        , 0.24313726,\n",
       "        0.        , 0.01176471, 0.        ],\n",
       "       [0.        , 0.        , 0.        , 0.        , 0.        ,\n",
       "        0.        , 0.        , 0.        , 0.00392157, 0.00392157,\n",
       "        0.07058824, 0.85490197, 0.9607843 , 0.1764706 , 0.        ,\n",
       "        0.00784314, 0.        , 0.        , 0.        , 0.        ,\n",
       "        0.00392157, 0.        , 0.07058824, 0.9607843 , 0.5058824 ,\n",
       "        0.        , 0.01176471, 0.        ],\n",
       "       [0.        , 0.        , 0.        , 0.        , 0.        ,\n",
       "        0.        , 0.        , 0.00392157, 0.01176471, 0.        ,\n",
       "        0.6745098 , 1.        , 0.3529412 , 0.        , 0.01176471,\n",
       "        0.        , 0.        , 0.        , 0.        , 0.        ,\n",
       "        0.        , 0.00784314, 0.        , 0.8039216 , 0.75686276,\n",
       "        0.        , 0.01176471, 0.        ],\n",
       "       [0.        , 0.        , 0.        , 0.        , 0.        ,\n",
       "        0.        , 0.        , 0.01568628, 0.        , 0.45882353,\n",
       "        1.        , 0.56078434, 0.        , 0.01568628, 0.        ,\n",
       "        0.        , 0.        , 0.        , 0.        , 0.        ,\n",
       "        0.        , 0.01176471, 0.        , 0.54901963, 0.9372549 ,\n",
       "        0.04705882, 0.        , 0.00392157],\n",
       "       [0.        , 0.        , 0.        , 0.        , 0.        ,\n",
       "        0.        , 0.01176471, 0.        , 0.25490198, 1.        ,\n",
       "        0.77254903, 0.03137255, 0.02745098, 0.02352941, 0.01568628,\n",
       "        0.01960784, 0.01960784, 0.01960784, 0.01960784, 0.01960784,\n",
       "        0.01960784, 0.03137255, 0.01960784, 0.30588236, 1.        ,\n",
       "        0.19215687, 0.        , 0.00784314],\n",
       "       [0.        , 0.        , 0.        , 0.        , 0.        ,\n",
       "        0.00784314, 0.        , 0.09803922, 0.8901961 , 0.84313726,\n",
       "        0.03529412, 0.        , 0.        , 0.        , 0.        ,\n",
       "        0.        , 0.        , 0.        , 0.        , 0.        ,\n",
       "        0.        , 0.        , 0.        , 0.02745098, 0.9647059 ,\n",
       "        0.4509804 , 0.        , 0.01568628],\n",
       "       [0.        , 0.        , 0.        , 0.        , 0.00392157,\n",
       "        0.01176471, 0.01176471, 0.72156864, 1.        , 0.6862745 ,\n",
       "        0.4392157 , 0.46666667, 0.45490196, 0.45490196, 0.45490196,\n",
       "        0.45490196, 0.45490196, 0.45490196, 0.45490196, 0.45490196,\n",
       "        0.45490196, 0.45490196, 0.45490196, 0.4509804 , 0.9490196 ,\n",
       "        0.6745098 , 0.        , 0.01176471],\n",
       "       [0.        , 0.        , 0.        , 0.        , 0.01568628,\n",
       "        0.        , 0.52156866, 1.        , 0.9254902 , 0.9764706 ,\n",
       "        1.        , 1.        , 1.        , 1.        , 1.        ,\n",
       "        1.        , 1.        , 1.        , 1.        , 1.        ,\n",
       "        1.        , 1.        , 1.        , 1.        , 0.9764706 ,\n",
       "        0.84705883, 0.03137255, 0.        ],\n",
       "       [0.        , 0.        , 0.        , 0.01176471, 0.        ,\n",
       "        0.29803923, 1.        , 0.7019608 , 0.0627451 , 0.04313726,\n",
       "        0.02745098, 0.02745098, 0.02745098, 0.02745098, 0.02745098,\n",
       "        0.02745098, 0.02745098, 0.02745098, 0.02745098, 0.02745098,\n",
       "        0.02745098, 0.02745098, 0.03921569, 0.02745098, 0.34901962,\n",
       "        1.        , 0.14509805, 0.        ],\n",
       "       [0.        , 0.        , 0.00784314, 0.        , 0.12156863,\n",
       "        0.92941177, 0.8745098 , 0.08235294, 0.        , 0.        ,\n",
       "        0.        , 0.        , 0.        , 0.        , 0.        ,\n",
       "        0.        , 0.        , 0.        , 0.        , 0.        ,\n",
       "        0.        , 0.        , 0.        , 0.        , 0.11764706,\n",
       "        0.99607843, 0.39607844, 0.        ],\n",
       "       [0.        , 0.00392157, 0.00784314, 0.01568628, 0.7529412 ,\n",
       "        1.        , 0.23529412, 0.        , 0.01176471, 0.00392157,\n",
       "        0.00392157, 0.00392157, 0.00392157, 0.00392157, 0.00392157,\n",
       "        0.00392157, 0.00392157, 0.00392157, 0.00392157, 0.00392157,\n",
       "        0.00392157, 0.00392157, 0.00392157, 0.00784314, 0.00784314,\n",
       "        0.89411765, 0.654902  , 0.        ],\n",
       "       [0.        , 0.01568628, 0.        , 0.5372549 , 1.        ,\n",
       "        0.44313726, 0.        , 0.01176471, 0.        , 0.        ,\n",
       "        0.        , 0.        , 0.        , 0.        , 0.        ,\n",
       "        0.        , 0.        , 0.        , 0.        , 0.        ,\n",
       "        0.        , 0.        , 0.        , 0.00784314, 0.        ,\n",
       "        0.64705884, 0.89411765, 0.01568628],\n",
       "       [0.01176471, 0.        , 0.3137255 , 1.        , 0.6627451 ,\n",
       "        0.        , 0.01568628, 0.00392157, 0.        , 0.        ,\n",
       "        0.        , 0.        , 0.        , 0.        , 0.        ,\n",
       "        0.        , 0.        , 0.        , 0.        , 0.        ,\n",
       "        0.        , 0.        , 0.        , 0.01568628, 0.        ,\n",
       "        0.39607844, 1.        , 0.16862746],\n",
       "       [0.        , 0.11764706, 0.9372549 , 0.85490197, 0.0627451 ,\n",
       "        0.00392157, 0.00392157, 0.        , 0.        , 0.        ,\n",
       "        0.        , 0.        , 0.        , 0.        , 0.        ,\n",
       "        0.        , 0.        , 0.        , 0.        , 0.        ,\n",
       "        0.        , 0.        , 0.        , 0.01176471, 0.        ,\n",
       "        0.19215687, 1.        , 0.43137255],\n",
       "       [0.00392157, 0.74509805, 0.9843137 , 0.19607843, 0.        ,\n",
       "        0.01176471, 0.        , 0.        , 0.        , 0.        ,\n",
       "        0.        , 0.        , 0.        , 0.        , 0.        ,\n",
       "        0.        , 0.        , 0.        , 0.        , 0.        ,\n",
       "        0.        , 0.        , 0.        , 0.00392157, 0.        ,\n",
       "        0.02745098, 0.9411765 , 0.654902  ],\n",
       "       [0.54901963, 1.        , 0.3647059 , 0.        , 0.01176471,\n",
       "        0.        , 0.        , 0.        , 0.        , 0.        ,\n",
       "        0.        , 0.        , 0.        , 0.        , 0.        ,\n",
       "        0.        , 0.        , 0.        , 0.        , 0.        ,\n",
       "        0.        , 0.        , 0.        , 0.        , 0.00392157,\n",
       "        0.        , 0.7372549 , 0.85490197],\n",
       "       [0.8901961 , 0.5058824 , 0.        , 0.01568628, 0.        ,\n",
       "        0.        , 0.        , 0.        , 0.        , 0.        ,\n",
       "        0.        , 0.        , 0.        , 0.        , 0.        ,\n",
       "        0.        , 0.        , 0.        , 0.        , 0.        ,\n",
       "        0.        , 0.        , 0.        , 0.        , 0.01176471,\n",
       "        0.        , 0.4509804 , 0.8       ]], dtype=float32)"
      ]
     },
     "execution_count": 3,
     "metadata": {},
     "output_type": "execute_result"
    }
   ],
   "source": [
    "a_imag"
   ]
  },
  {
   "cell_type": "markdown",
   "metadata": {},
   "source": [
    "#### dict type으로 numpy feature와 label을 저장\n",
    "\n",
    "각 이미지에서 ndarray를 추출하여 dict에 저장한다"
   ]
  },
  {
   "cell_type": "code",
   "execution_count": 4,
   "metadata": {},
   "outputs": [
    {
     "name": "stdout",
     "output_type": "stream",
     "text": [
      "notMNIST_large/A/SG90IE11c3RhcmQgQlROIFBvc3Rlci50dGY=.png\n",
      "read past end of file\n",
      "notMNIST_large/A/RnJlaWdodERpc3BCb29rSXRhbGljLnR0Zg==.png\n",
      "invalid PNG header\n",
      "notMNIST_large/A/Um9tYW5hIEJvbGQucGZi.png\n",
      "read past end of file\n",
      "notMNIST_large/D/VHJhbnNpdCBCb2xkLnR0Zg==.png\n",
      "read past end of file\n",
      "notMNIST_large/B/TmlraXNFRi1TZW1pQm9sZEl0YWxpYy5vdGY=.png\n",
      "read past end of file\n"
     ]
    }
   ],
   "source": [
    "import os\n",
    "\n",
    "dataset_dir = \"notMNIST_large\"\n",
    "\n",
    "classes = []\n",
    "labels = []\n",
    "features = []\n",
    "for root, dirs, files in os.walk(dataset_dir, topdown=False):\n",
    "    for name in dirs:\n",
    "        classes.append(name)\n",
    "\n",
    "for class_name in classes: \n",
    "    root_dir = os.path.join(dataset_dir, class_name)\n",
    "    for name in os.listdir(root_dir):\n",
    "        img_path = os.path.join(root_dir, name)\n",
    "        try:\n",
    "            img_ndarray = mpimg.imread(img_path)\n",
    "            features.append(img_ndarray)\n",
    "            labels.append(class_name)\n",
    "        except OSError as e:\n",
    "            print(img_path)\n",
    "            print(e)\n",
    "        except ValueError as e:\n",
    "            print(img_path)\n",
    "            print(e)\n"
   ]
  },
  {
   "cell_type": "code",
   "execution_count": 5,
   "metadata": {},
   "outputs": [
    {
     "name": "stdout",
     "output_type": "stream",
     "text": [
      "['A' 'B' 'C' 'D' 'E' 'F' 'G' 'H' 'I' 'J']\n"
     ]
    }
   ],
   "source": [
    "from sklearn import preprocessing\n",
    "le = preprocessing.LabelEncoder()\n",
    "le.fit(classes)\n",
    "print(le.classes_)"
   ]
  },
  {
   "cell_type": "code",
   "execution_count": 6,
   "metadata": {},
   "outputs": [],
   "source": [
    "labels_int = le.transform(labels)\n",
    "from sklearn import preprocessing\n",
    "ohe = preprocessing.OneHotEncoder()\n",
    "ohe.fit(labels_int.reshape(-1, 1))\n",
    "labels_one_hot = ohe.transform(labels_int.reshape(-1, 1))"
   ]
  },
  {
   "cell_type": "code",
   "execution_count": 7,
   "metadata": {},
   "outputs": [
    {
     "data": {
      "text/plain": [
       "array([[1., 0., 0., ..., 0., 0., 0.],\n",
       "       [1., 0., 0., ..., 0., 0., 0.],\n",
       "       [1., 0., 0., ..., 0., 0., 0.],\n",
       "       ...,\n",
       "       [0., 1., 0., ..., 0., 0., 0.],\n",
       "       [0., 1., 0., ..., 0., 0., 0.],\n",
       "       [0., 1., 0., ..., 0., 0., 0.]])"
      ]
     },
     "execution_count": 7,
     "metadata": {},
     "output_type": "execute_result"
    }
   ],
   "source": [
    "labels_one_hot.toarray()"
   ]
  },
  {
   "cell_type": "code",
   "execution_count": 8,
   "metadata": {},
   "outputs": [],
   "source": [
    "data = {}\n",
    "data[\"features\"] = np.asarray(features)\n",
    "data[\"labels\"] = np.asarray(labels_one_hot.toarray())"
   ]
  },
  {
   "cell_type": "code",
   "execution_count": 9,
   "metadata": {},
   "outputs": [
    {
     "data": {
      "text/plain": [
       "(529114, 28, 28)"
      ]
     },
     "execution_count": 9,
     "metadata": {},
     "output_type": "execute_result"
    }
   ],
   "source": [
    "data[\"features\"].shape"
   ]
  },
  {
   "cell_type": "code",
   "execution_count": 10,
   "metadata": {},
   "outputs": [
    {
     "data": {
      "text/plain": [
       "(529114, 10)"
      ]
     },
     "execution_count": 10,
     "metadata": {},
     "output_type": "execute_result"
    }
   ],
   "source": [
    "data[\"labels\"].shape"
   ]
  },
  {
   "cell_type": "code",
   "execution_count": 11,
   "metadata": {},
   "outputs": [],
   "source": [
    "train_set = {}\n",
    "test_set = {}"
   ]
  },
  {
   "cell_type": "code",
   "execution_count": 12,
   "metadata": {},
   "outputs": [],
   "source": [
    "from sklearn.model_selection import StratifiedShuffleSplit\n",
    "\n",
    "sss = StratifiedShuffleSplit(n_splits=1, test_size=0.5, random_state=0)\n",
    "for train_index, test_index in sss.split(data[\"features\"] , data[\"labels\"]):\n",
    "    train_set[\"features\"]  = data[\"features\"][train_index]\n",
    "    train_set[\"labels\"] = data[\"labels\"][train_index]\n",
    "    \n",
    "    test_set[\"features\"] = data[\"features\"][test_index]\n",
    "    test_set[\"labels\"] = data[\"labels\"][test_index]\n"
   ]
  },
  {
   "cell_type": "code",
   "execution_count": 13,
   "metadata": {},
   "outputs": [
    {
     "data": {
      "text/plain": [
       "((264557, 28, 28), (264557, 10))"
      ]
     },
     "execution_count": 13,
     "metadata": {},
     "output_type": "execute_result"
    }
   ],
   "source": [
    "train_set[\"features\"].shape, train_set[\"labels\"].shape"
   ]
  },
  {
   "cell_type": "code",
   "execution_count": 14,
   "metadata": {},
   "outputs": [
    {
     "data": {
      "text/plain": [
       "((264557, 28, 28), (264557, 10))"
      ]
     },
     "execution_count": 14,
     "metadata": {},
     "output_type": "execute_result"
    }
   ],
   "source": [
    "test_set[\"features\"].shape, test_set[\"labels\"].shape"
   ]
  },
  {
   "cell_type": "markdown",
   "metadata": {},
   "source": [
    "#### dictype의 persisence\n",
    "저장된 dict type을 npy 파일로 persisence 한다."
   ]
  },
  {
   "cell_type": "code",
   "execution_count": 15,
   "metadata": {},
   "outputs": [],
   "source": [
    "np.save(\"notMNIST_large.npy\",data)\n",
    "np.save(\"notMNIST_large_train.npy\",train_set)\n",
    "np.save(\"notMNIST_large_test.npy\",test_set)"
   ]
  },
  {
   "cell_type": "markdown",
   "metadata": {},
   "source": [
    "만약 본인의 pc가 MAC이라면 아래 코드를 사용해야한다"
   ]
  },
  {
   "cell_type": "code",
   "execution_count": 16,
   "metadata": {},
   "outputs": [
    {
     "name": "stdout",
     "output_type": "stream",
     "text": [
      "Collecting zodbpickle\n",
      "  Downloading https://files.pythonhosted.org/packages/8a/71/5fe589c0c017237ff2eb0d5fc644806053e4b68566ec6879a00d0d83ea5a/zodbpickle-1.0-cp36-cp36m-manylinux1_x86_64.whl (331kB)\n",
      "\u001b[K    100% |████████████████████████████████| 337kB 111kB/s ta 0:00:01\n",
      "\u001b[?25hRequirement already satisfied: setuptools in /home/sc82choi/miniconda3/envs/dl/lib/python3.6/site-packages (from zodbpickle)\n",
      "Installing collected packages: zodbpickle\n",
      "Successfully installed zodbpickle-1.0\n",
      "\u001b[33mYou are using pip version 9.0.1, however version 10.0.0 is available.\n",
      "You should consider upgrading via the 'pip install --upgrade pip' command.\u001b[0m\n"
     ]
    }
   ],
   "source": [
    "!pip install zodbpickle"
   ]
  },
  {
   "cell_type": "code",
   "execution_count": null,
   "metadata": {},
   "outputs": [],
   "source": [
    "from zodbpickle import pickle # for Mac OS\n",
    "\n",
    "with open('notMNIST_large.npy', 'wb') as f:\n",
    "    pickle.dump(data, f, protocol=pickle.HIGHEST_PROTOCOL)\n",
    "\n",
    "with open('notMNIST_large_train.npy', 'wb') as f:\n",
    "    pickle.dump(train_set, f, protocol=pickle.HIGHEST_PROTOCOL)\n",
    "\n",
    "with open('notMNIST_large_test.npy', 'wb') as f:\n",
    "    pickle.dump(test_set, f, protocol=pickle.HIGHEST_PROTOCOL)"
   ]
  }
 ],
 "metadata": {
  "kernelspec": {
   "display_name": "Python 3",
   "language": "python",
   "name": "python3"
  },
  "language_info": {
   "codemirror_mode": {
    "name": "ipython",
    "version": 3
   },
   "file_extension": ".py",
   "mimetype": "text/x-python",
   "name": "python",
   "nbconvert_exporter": "python",
   "pygments_lexer": "ipython3",
   "version": "3.6.4"
  }
 },
 "nbformat": 4,
 "nbformat_minor": 2
}
