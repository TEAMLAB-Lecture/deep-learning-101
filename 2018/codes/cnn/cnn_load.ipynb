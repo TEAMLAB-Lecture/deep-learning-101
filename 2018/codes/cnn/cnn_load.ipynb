{
 "cells": [
  {
   "cell_type": "code",
   "execution_count": 72,
   "metadata": {},
   "outputs": [],
   "source": [
    "from tensorflow.keras.models import model_from_json\n",
    "\n",
    "# Model reconstruction from JSON file\n",
    "with open('model_architecture.json', 'r') as f:\n",
    "    model = model_from_json(f.read())\n",
    "\n",
    "# Load weights into the new model\n",
    "model.load_weights('weights.best.h5')"
   ]
  },
  {
   "cell_type": "code",
   "execution_count": 73,
   "metadata": {},
   "outputs": [
    {
     "data": {
      "text/plain": [
       "['4224.jpg', '9426.jpg', '4955.jpg', '9847.jpg', '9993.jpg']"
      ]
     },
     "execution_count": 73,
     "metadata": {},
     "output_type": "execute_result"
    }
   ],
   "source": [
    "import os \n",
    "\n",
    "original_dataset_dir = './dataset/dogs_and_cats'\n",
    "test_dir = os.path.join(original_dataset_dir, \"test\")\n",
    "filenames = [filename for filename in os.listdir(test_dir)]\n",
    "\n",
    "filenames[:5]"
   ]
  },
  {
   "cell_type": "code",
   "execution_count": 74,
   "metadata": {},
   "outputs": [
    {
     "data": {
      "text/plain": [
       "12500"
      ]
     },
     "execution_count": 74,
     "metadata": {},
     "output_type": "execute_result"
    }
   ],
   "source": [
    "len(filenames)"
   ]
  },
  {
   "cell_type": "code",
   "execution_count": 75,
   "metadata": {},
   "outputs": [],
   "source": [
    "import pandas as pd\n",
    "\n",
    "data = {\"filename\": filenames, \"label\": [0]*len(filenames)}\n",
    "\n",
    "test_df = pd.DataFrame(data)"
   ]
  },
  {
   "cell_type": "code",
   "execution_count": 76,
   "metadata": {},
   "outputs": [
    {
     "name": "stdout",
     "output_type": "stream",
     "text": [
      "Found 12500 images.\n"
     ]
    }
   ],
   "source": [
    "from tensorflow.keras.preprocessing.image import ImageDataGenerator\n",
    "image_generator = ImageDataGenerator(\n",
    "    rescale=1./255)\n",
    "\n",
    "\n",
    "test_datagenerator = image_generator.flow_from_dataframe(\n",
    "  test_df, test_dir, y_col=None, target_size=(150,150),batch_size=500, class_mode=None)"
   ]
  },
  {
   "cell_type": "code",
   "execution_count": 77,
   "metadata": {},
   "outputs": [],
   "source": [
    "y_probabilities = model.predict_generator(test_datagenerator)"
   ]
  },
  {
   "cell_type": "code",
   "execution_count": 78,
   "metadata": {},
   "outputs": [
    {
     "data": {
      "text/plain": [
       "array([[0.9912578 ],\n",
       "       [0.97223264],\n",
       "       [0.09664908],\n",
       "       ...,\n",
       "       [0.647135  ],\n",
       "       [0.12673998],\n",
       "       [0.9748258 ]], dtype=float32)"
      ]
     },
     "execution_count": 78,
     "metadata": {},
     "output_type": "execute_result"
    }
   ],
   "source": [
    "y_probabilities"
   ]
  },
  {
   "cell_type": "code",
   "execution_count": 79,
   "metadata": {},
   "outputs": [],
   "source": [
    "pred = (y_probabilities > 0.5).flatten() + 0"
   ]
  },
  {
   "cell_type": "code",
   "execution_count": 80,
   "metadata": {},
   "outputs": [],
   "source": [
    "data = {\"id\": [filename.split(\".\")[0] for filename in filenames], \"label\": y_probabilities.flatten()}\n",
    "\n",
    "result_df = pd.DataFrame(data)"
   ]
  },
  {
   "cell_type": "code",
   "execution_count": 81,
   "metadata": {},
   "outputs": [],
   "source": [
    "result_df.set_index(\"id\").to_csv(\"submission.csv\")"
   ]
  },
  {
   "cell_type": "code",
   "execution_count": 82,
   "metadata": {},
   "outputs": [
    {
     "name": "stdout",
     "output_type": "stream",
     "text": [
      "100%|████████████████████████████████████████| 195k/195k [00:04<00:00, 48.6kB/s]\n",
      "Successfully submitted to Dogs vs. Cats Redux: Kernels Edition"
     ]
    }
   ],
   "source": [
    "!kaggle competitions submit -f submission.csv -m \"First Submission\" dogs-vs-cats-redux-kernels-edition"
   ]
  }
 ],
 "metadata": {
  "kernelspec": {
   "display_name": "Python 3",
   "language": "python",
   "name": "python3"
  },
  "language_info": {
   "codemirror_mode": {
    "name": "ipython",
    "version": 3
   },
   "file_extension": ".py",
   "mimetype": "text/x-python",
   "name": "python",
   "nbconvert_exporter": "python",
   "pygments_lexer": "ipython3",
   "version": "3.6.8"
  }
 },
 "nbformat": 4,
 "nbformat_minor": 2
}
